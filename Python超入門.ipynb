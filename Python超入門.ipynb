{
  "nbformat": 4,
  "nbformat_minor": 0,
  "metadata": {
    "colab": {
      "provenance": [],
      "authorship_tag": "ABX9TyNawTXwirIpqgQE1PHy8L9X",
      "include_colab_link": true
    },
    "kernelspec": {
      "name": "python3",
      "display_name": "Python 3"
    },
    "language_info": {
      "name": "python"
    }
  },
  "cells": [
    {
      "cell_type": "markdown",
      "metadata": {
        "id": "view-in-github",
        "colab_type": "text"
      },
      "source": [
        "<a href=\"https://colab.research.google.com/github/mukaihiroyuki/0930lesson/blob/main/Python%E8%B6%85%E5%85%A5%E9%96%80.ipynb\" target=\"_parent\"><img src=\"https://colab.research.google.com/assets/colab-badge.svg\" alt=\"Open In Colab\"/></a>"
      ]
    },
    {
      "cell_type": "code",
      "source": [
        "def say_hello():\n",
        "    \"\"\"\n",
        "\n",
        "    \"\"\"\n",
        "    print('Good Moring everybody')"
      ],
      "metadata": {
        "id": "_bgyNrFg7KmD"
      },
      "execution_count": null,
      "outputs": []
    },
    {
      "cell_type": "code",
      "source": [
        "say_hello()"
      ],
      "metadata": {
        "colab": {
          "base_uri": "https://localhost:8080/"
        },
        "id": "2NF81iix7eDt",
        "outputId": "1acdd8e0-51d5-44c6-9666-f023eca43eb0"
      },
      "execution_count": null,
      "outputs": [
        {
          "output_type": "stream",
          "name": "stdout",
          "text": [
            "Good Moring everybody\n"
          ]
        }
      ]
    },
    {
      "cell_type": "code",
      "source": [
        "say_hello()"
      ],
      "metadata": {
        "colab": {
          "base_uri": "https://localhost:8080/"
        },
        "id": "_1btXseK8Csv",
        "outputId": "0056a306-ab78-47af-ea90-a27318664188"
      },
      "execution_count": null,
      "outputs": [
        {
          "output_type": "stream",
          "name": "stdout",
          "text": [
            "Good Moring everybody\n"
          ]
        }
      ]
    },
    {
      "cell_type": "code",
      "source": [
        "def say_hello2(name):\n",
        "    print(f'{name}さん、こんにちは')"
      ],
      "metadata": {
        "id": "CtlyVipA8spo"
      },
      "execution_count": null,
      "outputs": []
    },
    {
      "cell_type": "code",
      "source": [
        "say_hello2(name = 'Suzuki')"
      ],
      "metadata": {
        "colab": {
          "base_uri": "https://localhost:8080/"
        },
        "id": "sVBkaLNS9cmd",
        "outputId": "eea818a5-6b34-4e62-cb72-fb8f8fd82d12"
      },
      "execution_count": null,
      "outputs": [
        {
          "output_type": "stream",
          "name": "stdout",
          "text": [
            "Suzukiさん、こんにちは\n"
          ]
        }
      ]
    },
    {
      "cell_type": "code",
      "source": [
        "def calc_square(side):\n",
        "    return side * 12\n"
      ],
      "metadata": {
        "id": "T4GzaJko90sS"
      },
      "execution_count": null,
      "outputs": []
    },
    {
      "cell_type": "code",
      "source": [
        "result = calc_square(side=100)"
      ],
      "metadata": {
        "id": "rR9T9hjv-860"
      },
      "execution_count": null,
      "outputs": []
    },
    {
      "cell_type": "code",
      "source": [
        "result"
      ],
      "metadata": {
        "colab": {
          "base_uri": "https://localhost:8080/"
        },
        "id": "-6NpEIC8_Fg9",
        "outputId": "8b95ef50-7123-4d27-d9c3-0ecf1b88b2fb"
      },
      "execution_count": null,
      "outputs": [
        {
          "output_type": "execute_result",
          "data": {
            "text/plain": [
              "1200"
            ]
          },
          "metadata": {},
          "execution_count": 27
        }
      ]
    },
    {
      "cell_type": "code",
      "source": [
        "def calc_tri(base,height):\n",
        "    return base * height * 0.5"
      ],
      "metadata": {
        "id": "8ks6orXd_8lB"
      },
      "execution_count": null,
      "outputs": []
    },
    {
      "cell_type": "code",
      "source": [
        "calc_tri(base=100, height=120)"
      ],
      "metadata": {
        "colab": {
          "base_uri": "https://localhost:8080/"
        },
        "id": "ns3C4Uh2CUOw",
        "outputId": "c3d27ac0-54dc-46c6-d0c6-26fd76c02f15"
      },
      "execution_count": null,
      "outputs": [
        {
          "output_type": "execute_result",
          "data": {
            "text/plain": [
              "6000.0"
            ]
          },
          "metadata": {},
          "execution_count": 30
        }
      ]
    },
    {
      "cell_type": "code",
      "source": [
        "class Person:\n",
        "  #初期設定\n",
        "  def __init__(self, name, nationality, age):\n",
        "    self.name = name\n",
        "    self.nationality = nationality\n",
        "    self.age = age\n",
        "\n",
        "  def __call__(self, name):\n",
        "    print(f\"{name}さん、Hello everybody I'm {self.name}.call関数から呼び出されています。\")\n",
        "\n",
        "  def say_hello(self, name):\n",
        "    print(f\"{name}さん、Hello everybody I'm {self.name}.\")\n"
      ],
      "metadata": {
        "id": "0VXqUIpYClvY"
      },
      "execution_count": 34,
      "outputs": []
    },
    {
      "cell_type": "markdown",
      "source": [],
      "metadata": {
        "id": "gahH9SNJL3eZ"
      }
    },
    {
      "cell_type": "code",
      "source": [
        "suzuha = Person(name='すずは', nationality='八戸', age=18)"
      ],
      "metadata": {
        "id": "kek5cyAiE9WQ"
      },
      "execution_count": 35,
      "outputs": []
    },
    {
      "cell_type": "code",
      "source": [
        "mike= Person(name='Mike', nationality='Sendai', age=50)"
      ],
      "metadata": {
        "id": "18ytzJs2GdbQ"
      },
      "execution_count": 36,
      "outputs": []
    },
    {
      "cell_type": "code",
      "source": [
        "mike.say_hello(name ='向中野')"
      ],
      "metadata": {
        "colab": {
          "base_uri": "https://localhost:8080/"
        },
        "id": "V2W5-7T7FtwY",
        "outputId": "d20b50ff-5b9e-433d-cacc-bd4dd57c2969"
      },
      "execution_count": 37,
      "outputs": [
        {
          "output_type": "stream",
          "name": "stdout",
          "text": [
            "向中野さん、Hello everybody I'm Mike.\n"
          ]
        }
      ]
    },
    {
      "cell_type": "code",
      "source": [
        "suzuha.say_hello(name = '向中野')"
      ],
      "metadata": {
        "colab": {
          "base_uri": "https://localhost:8080/"
        },
        "id": "wpgo9OCuF13R",
        "outputId": "90a4c772-0efb-4862-ea0a-9fcf57739a44"
      },
      "execution_count": 38,
      "outputs": [
        {
          "output_type": "stream",
          "name": "stdout",
          "text": [
            "向中野さん、Hello everybody I'm すずは.\n"
          ]
        }
      ]
    },
    {
      "cell_type": "code",
      "source": [
        "suzuha(name='馬場')"
      ],
      "metadata": {
        "colab": {
          "base_uri": "https://localhost:8080/"
        },
        "id": "DfLcTMOzGHBK",
        "outputId": "aa4326e4-c62d-484e-b580-f7b7471c61ca"
      },
      "execution_count": 39,
      "outputs": [
        {
          "output_type": "stream",
          "name": "stdout",
          "text": [
            "馬場さん、Hello everybody I'm すずは.call関数から呼び出されています。\n"
          ]
        }
      ]
    },
    {
      "cell_type": "code",
      "source": [],
      "metadata": {
        "id": "oHLS51VaLotI"
      },
      "execution_count": null,
      "outputs": []
    }
  ]
}