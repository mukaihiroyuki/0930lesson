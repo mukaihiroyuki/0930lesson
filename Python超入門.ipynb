{
  "nbformat": 4,
  "nbformat_minor": 0,
  "metadata": {
    "colab": {
      "provenance": [],
      "authorship_tag": "ABX9TyPiQFUReX6KmWgZCuJTR9xj",
      "include_colab_link": true
    },
    "kernelspec": {
      "name": "python3",
      "display_name": "Python 3"
    },
    "language_info": {
      "name": "python"
    }
  },
  "cells": [
    {
      "cell_type": "markdown",
      "metadata": {
        "id": "view-in-github",
        "colab_type": "text"
      },
      "source": [
        "<a href=\"https://colab.research.google.com/github/mukaihiroyuki/0930lesson/blob/main/Python%E8%B6%85%E5%85%A5%E9%96%80.ipynb\" target=\"_parent\"><img src=\"https://colab.research.google.com/assets/colab-badge.svg\" alt=\"Open In Colab\"/></a>"
      ]
    },
    {
      "cell_type": "code",
      "source": [
        "money = 8100\n",
        "\n",
        "if money >= 8000:\n",
        "    print('desneyに行きます')\n",
        "elif money >= 2000:\n",
        "    print('映画に行きます')\n",
        "else:\n",
        "    print('漫画喫茶にいく')\n"
      ],
      "metadata": {
        "id": "9QV0BhVbE5dm"
      },
      "execution_count": null,
      "outputs": []
    },
    {
      "cell_type": "code",
      "source": [
        "names = ['向中野', '柳町', '長谷川', '鎌田', '馬場', '工藤', '橋本']\n",
        "for i in range(6):\n",
        "  print(names[i] + 'さん')"
      ],
      "metadata": {
        "id": "RVdZkXCVFVDn"
      },
      "execution_count": null,
      "outputs": []
    },
    {
      "cell_type": "code",
      "source": [
        "len(names)"
      ],
      "metadata": {
        "id": "UoPC7ycml0ET"
      },
      "execution_count": null,
      "outputs": []
    },
    {
      "cell_type": "code",
      "source": [
        "for name in names:\n",
        "  print(name + 'さん')"
      ],
      "metadata": {
        "id": "YwNSX7fWl4Tf"
      },
      "execution_count": null,
      "outputs": []
    },
    {
      "cell_type": "code",
      "source": [
        "last_names = ['向中野', '柳町', '長谷川', '鎌田', '馬場', '工藤', '橋本']\n",
        "first_names =['大志','太郎','篤','ゆう','透','千津','陸']\n",
        "\n",
        "print(last_names)"
      ],
      "metadata": {
        "id": "mQQiSpphmLc_"
      },
      "execution_count": null,
      "outputs": []
    },
    {
      "cell_type": "code",
      "source": [
        "print(first_names)"
      ],
      "metadata": {
        "id": "4DKEkJkIqOYu"
      },
      "execution_count": null,
      "outputs": []
    },
    {
      "cell_type": "code",
      "source": [
        "for last_name, first_name in zip(last_names, first_names):\n",
        "  print(last_name + first_name + 'さん')"
      ],
      "metadata": {
        "id": "kHZEo1GKqSxl"
      },
      "execution_count": null,
      "outputs": []
    },
    {
      "cell_type": "code",
      "source": [
        "for i,last_name in enumerate(last_names):\n",
        "  print('出席番号',i, '番目の', + last_names + 'さん')"
      ],
      "metadata": {
        "id": "19fywcPkqqxo",
        "outputId": "ae4358c7-2f6b-46ed-ff10-9c7e4cb55985",
        "colab": {
          "base_uri": "https://localhost:8080/",
          "height": 159
        }
      },
      "execution_count": 4,
      "outputs": [
        {
          "output_type": "error",
          "ename": "NameError",
          "evalue": "name 'last_names' is not defined",
          "traceback": [
            "\u001b[0;31m---------------------------------------------------------------------------\u001b[0m",
            "\u001b[0;31mNameError\u001b[0m                                 Traceback (most recent call last)",
            "\u001b[0;32m<ipython-input-4-ba5858d91822>\u001b[0m in \u001b[0;36m<cell line: 1>\u001b[0;34m()\u001b[0m\n\u001b[0;32m----> 1\u001b[0;31m \u001b[0;32mfor\u001b[0m \u001b[0mi\u001b[0m\u001b[0;34m,\u001b[0m\u001b[0mlast_name\u001b[0m \u001b[0;32min\u001b[0m \u001b[0menumerate\u001b[0m\u001b[0;34m(\u001b[0m\u001b[0mlast_names\u001b[0m\u001b[0;34m)\u001b[0m\u001b[0;34m:\u001b[0m\u001b[0;34m\u001b[0m\u001b[0;34m\u001b[0m\u001b[0m\n\u001b[0m\u001b[1;32m      2\u001b[0m   \u001b[0mprint\u001b[0m\u001b[0;34m(\u001b[0m\u001b[0;34m'出席番号'\u001b[0m\u001b[0;34m,\u001b[0m\u001b[0mi\u001b[0m\u001b[0;34m,\u001b[0m \u001b[0;34m'番目の'\u001b[0m\u001b[0;34m,\u001b[0m \u001b[0;34m+\u001b[0m \u001b[0mlast_names\u001b[0m \u001b[0;34m+\u001b[0m \u001b[0;34m'さん'\u001b[0m\u001b[0;34m)\u001b[0m\u001b[0;34m\u001b[0m\u001b[0;34m\u001b[0m\u001b[0m\n",
            "\u001b[0;31mNameError\u001b[0m: name 'last_names' is not defined"
          ]
        }
      ]
    },
    {
      "cell_type": "code",
      "source": [
        "last_names = ['向中野', '柳町', '長谷川', '鎌田', '馬場', '工藤', '橋本']\n",
        "i =['大志','太郎','篤','ゆう','透','千津','陸']\n",
        "\n",
        "print(last_names)"
      ],
      "metadata": {
        "id": "jK269BKo7iUs",
        "outputId": "c2098401-0ed1-4d07-e927-a987067a0a7b",
        "colab": {
          "base_uri": "https://localhost:8080/"
        }
      },
      "execution_count": 7,
      "outputs": [
        {
          "output_type": "stream",
          "name": "stdout",
          "text": [
            "['向中野', '柳町', '長谷川', '鎌田', '馬場', '工藤', '橋本']\n"
          ]
        }
      ]
    },
    {
      "cell_type": "code",
      "source": [
        "print(first_names)"
      ],
      "metadata": {
        "id": "qAvLJ-JZ7nni",
        "outputId": "5f2d883a-d7ec-47b4-c868-d3bab4384557",
        "colab": {
          "base_uri": "https://localhost:8080/"
        }
      },
      "execution_count": 11,
      "outputs": [
        {
          "output_type": "stream",
          "name": "stdout",
          "text": [
            "['大志', '太郎', '篤', 'ゆう', '透', '千津', '陸']\n"
          ]
        }
      ]
    },
    {
      "cell_type": "code",
      "source": [
        "for i,last_name in enumerate(last_names):\n",
        "  print('出席番号',i, '番目の', last_name + 'さん')"
      ],
      "metadata": {
        "id": "iYeCaYAt7sKo",
        "outputId": "d72374c8-46ab-450b-d3a0-8544e6e3fc36",
        "colab": {
          "base_uri": "https://localhost:8080/"
        }
      },
      "execution_count": 15,
      "outputs": [
        {
          "output_type": "stream",
          "name": "stdout",
          "text": [
            "出席番号 0 番目の 向中野さん\n",
            "出席番号 1 番目の 柳町さん\n",
            "出席番号 2 番目の 長谷川さん\n",
            "出席番号 3 番目の 鎌田さん\n",
            "出席番号 4 番目の 馬場さん\n",
            "出席番号 5 番目の 工藤さん\n",
            "出席番号 6 番目の 橋本さん\n"
          ]
        }
      ]
    },
    {
      "source": [
        "for i, last_name in enumerate(last_names):\n",
        "    print('出席番号', i, '番目の', last_name + 'さん')"
      ],
      "cell_type": "code",
      "metadata": {
        "id": "JzmZQR6P8cO8",
        "outputId": "3588d589-347f-4a6c-ec11-b81a779c8c8e",
        "colab": {
          "base_uri": "https://localhost:8080/"
        }
      },
      "execution_count": 13,
      "outputs": [
        {
          "output_type": "stream",
          "name": "stdout",
          "text": [
            "出席番号 0 番目の 向中野さん\n",
            "出席番号 1 番目の 柳町さん\n",
            "出席番号 2 番目の 長谷川さん\n",
            "出席番号 3 番目の 鎌田さん\n",
            "出席番号 4 番目の 馬場さん\n",
            "出席番号 5 番目の 工藤さん\n",
            "出席番号 6 番目の 橋本さん\n"
          ]
        }
      ]
    },
    {
      "source": [
        "for i, last_name in enumerate(last_names):\n",
        "    print('出席番号', i, '番目の', last_name + 'さん')"
      ],
      "cell_type": "code",
      "metadata": {
        "id": "yR4wfuye8djj",
        "outputId": "1aa6a926-6c6f-442f-bdde-ba09f0427af6",
        "colab": {
          "base_uri": "https://localhost:8080/"
        }
      },
      "execution_count": 12,
      "outputs": [
        {
          "output_type": "stream",
          "name": "stdout",
          "text": [
            "出席番号 0 番目の 向中野さん\n",
            "出席番号 1 番目の 柳町さん\n",
            "出席番号 2 番目の 長谷川さん\n",
            "出席番号 3 番目の 鎌田さん\n",
            "出席番号 4 番目の 馬場さん\n",
            "出席番号 5 番目の 工藤さん\n",
            "出席番号 6 番目の 橋本さん\n"
          ]
        }
      ]
    },
    {
      "cell_type": "code",
      "source": [
        "for i,last_name in enumerate(last_names):\n",
        "  print(f'出席番号{i}番目の{last_name}さん')"
      ],
      "metadata": {
        "id": "oyQISjjm81ZR",
        "outputId": "542e7990-0742-45f8-e7f6-c75cc41af799",
        "colab": {
          "base_uri": "https://localhost:8080/"
        }
      },
      "execution_count": 18,
      "outputs": [
        {
          "output_type": "stream",
          "name": "stdout",
          "text": [
            "出席番号0番目の向中野さん\n",
            "出席番号1番目の柳町さん\n",
            "出席番号2番目の長谷川さん\n",
            "出席番号3番目の鎌田さん\n",
            "出席番号4番目の馬場さん\n",
            "出席番号5番目の工藤さん\n",
            "出席番号6番目の橋本さん\n"
          ]
        }
      ]
    },
    {
      "source": [
        "for i,last_name in enumerate(last_names): # Changed 'enumarate' to 'enumerate'\n",
        "  print(f'出席番号{i}番目の{last_name}さん')"
      ],
      "cell_type": "code",
      "metadata": {
        "id": "GF1ie071_RPM",
        "outputId": "4962cc6f-3077-4e53-be60-441b38d4ec21",
        "colab": {
          "base_uri": "https://localhost:8080/"
        }
      },
      "execution_count": 17,
      "outputs": [
        {
          "output_type": "stream",
          "name": "stdout",
          "text": [
            "出席番号0番目の向中野さん\n",
            "出席番号1番目の柳町さん\n",
            "出席番号2番目の長谷川さん\n",
            "出席番号3番目の鎌田さん\n",
            "出席番号4番目の馬場さん\n",
            "出席番号5番目の工藤さん\n",
            "出席番号6番目の橋本さん\n"
          ]
        }
      ]
    },
    {
      "cell_type": "code",
      "source": [
        "for index,last_name in enumerate(last_names):\n",
        "  print(f'出席番号{index}番目の{last_name}さん')"
      ],
      "metadata": {
        "id": "0BU-GUYr_JPv",
        "outputId": "d9846387-1c38-4a5e-d901-1ae0e1bb5e15",
        "colab": {
          "base_uri": "https://localhost:8080/"
        }
      },
      "execution_count": 19,
      "outputs": [
        {
          "output_type": "stream",
          "name": "stdout",
          "text": [
            "出席番号0番目の向中野さん\n",
            "出席番号1番目の柳町さん\n",
            "出席番号2番目の長谷川さん\n",
            "出席番号3番目の鎌田さん\n",
            "出席番号4番目の馬場さん\n",
            "出席番号5番目の工藤さん\n",
            "出席番号6番目の橋本さん\n"
          ]
        }
      ]
    },
    {
      "cell_type": "code",
      "source": [],
      "metadata": {
        "id": "NUc5CPCA_vLl"
      },
      "execution_count": null,
      "outputs": []
    }
  ]
}