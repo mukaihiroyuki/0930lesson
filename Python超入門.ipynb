{
  "nbformat": 4,
  "nbformat_minor": 0,
  "metadata": {
    "colab": {
      "provenance": [],
      "authorship_tag": "ABX9TyMYRuDf+ary6U/6X060K/Q/",
      "include_colab_link": true
    },
    "kernelspec": {
      "name": "python3",
      "display_name": "Python 3"
    },
    "language_info": {
      "name": "python"
    }
  },
  "cells": [
    {
      "cell_type": "markdown",
      "metadata": {
        "id": "view-in-github",
        "colab_type": "text"
      },
      "source": [
        "<a href=\"https://colab.research.google.com/github/mukaihiroyuki/0930lesson/blob/main/Python%E8%B6%85%E5%85%A5%E9%96%80.ipynb\" target=\"_parent\"><img src=\"https://colab.research.google.com/assets/colab-badge.svg\" alt=\"Open In Colab\"/></a>"
      ]
    },
    {
      "cell_type": "code",
      "source": [
        "def say_hello():\n",
        "    \"\"\"\n",
        "\n",
        "    \"\"\"\n",
        "    print('Good Moring everybody')"
      ],
      "metadata": {
        "id": "_bgyNrFg7KmD"
      },
      "execution_count": 2,
      "outputs": []
    },
    {
      "cell_type": "code",
      "source": [
        "say_hello()"
      ],
      "metadata": {
        "colab": {
          "base_uri": "https://localhost:8080/"
        },
        "id": "2NF81iix7eDt",
        "outputId": "1acdd8e0-51d5-44c6-9666-f023eca43eb0"
      },
      "execution_count": 3,
      "outputs": [
        {
          "output_type": "stream",
          "name": "stdout",
          "text": [
            "Good Moring everybody\n"
          ]
        }
      ]
    },
    {
      "cell_type": "code",
      "source": [
        "say_hello()"
      ],
      "metadata": {
        "colab": {
          "base_uri": "https://localhost:8080/"
        },
        "id": "_1btXseK8Csv",
        "outputId": "0056a306-ab78-47af-ea90-a27318664188"
      },
      "execution_count": 4,
      "outputs": [
        {
          "output_type": "stream",
          "name": "stdout",
          "text": [
            "Good Moring everybody\n"
          ]
        }
      ]
    },
    {
      "cell_type": "code",
      "source": [
        "def say_hello2(name):\n",
        "    print(f'{name}さん、こんにちは')"
      ],
      "metadata": {
        "id": "CtlyVipA8spo"
      },
      "execution_count": 6,
      "outputs": []
    },
    {
      "cell_type": "code",
      "source": [
        "say_hello2(name = 'Suzuki')"
      ],
      "metadata": {
        "colab": {
          "base_uri": "https://localhost:8080/"
        },
        "id": "sVBkaLNS9cmd",
        "outputId": "eea818a5-6b34-4e62-cb72-fb8f8fd82d12"
      },
      "execution_count": 8,
      "outputs": [
        {
          "output_type": "stream",
          "name": "stdout",
          "text": [
            "Suzukiさん、こんにちは\n"
          ]
        }
      ]
    },
    {
      "cell_type": "code",
      "source": [
        "def calc_square(side):\n",
        "    return side * 12\n",
        ""
      ],
      "metadata": {
        "id": "T4GzaJko90sS"
      },
      "execution_count": 25,
      "outputs": []
    },
    {
      "cell_type": "code",
      "source": [
        "result = calc_square(side=100)"
      ],
      "metadata": {
        "id": "rR9T9hjv-860"
      },
      "execution_count": 26,
      "outputs": []
    },
    {
      "cell_type": "code",
      "source": [
        "result"
      ],
      "metadata": {
        "colab": {
          "base_uri": "https://localhost:8080/"
        },
        "id": "-6NpEIC8_Fg9",
        "outputId": "8b95ef50-7123-4d27-d9c3-0ecf1b88b2fb"
      },
      "execution_count": 27,
      "outputs": [
        {
          "output_type": "execute_result",
          "data": {
            "text/plain": [
              "1200"
            ]
          },
          "metadata": {},
          "execution_count": 27
        }
      ]
    },
    {
      "cell_type": "code",
      "source": [
        "def calc_tri(base,height):\n",
        "    return base * height * 0.5"
      ],
      "metadata": {
        "id": "8ks6orXd_8lB"
      },
      "execution_count": 28,
      "outputs": []
    },
    {
      "cell_type": "code",
      "source": [
        "calc_tri(base=100, height=120)"
      ],
      "metadata": {
        "colab": {
          "base_uri": "https://localhost:8080/"
        },
        "id": "ns3C4Uh2CUOw",
        "outputId": "c3d27ac0-54dc-46c6-d0c6-26fd76c02f15"
      },
      "execution_count": 30,
      "outputs": [
        {
          "output_type": "execute_result",
          "data": {
            "text/plain": [
              "6000.0"
            ]
          },
          "metadata": {},
          "execution_count": 30
        }
      ]
    },
    {
      "cell_type": "code",
      "source": [],
      "metadata": {
        "id": "0VXqUIpYClvY"
      },
      "execution_count": null,
      "outputs": []
    }
  ]
}